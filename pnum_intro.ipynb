{
  "nbformat": 4,
  "nbformat_minor": 0,
  "metadata": {
    "colab": {
      "name": "pnum_intro.ipynb",
      "provenance": [],
      "collapsed_sections": []
    },
    "kernelspec": {
      "name": "python3",
      "display_name": "Python 3"
    }
  },
  "cells": [
    {
      "cell_type": "markdown",
      "metadata": {
        "id": "j1zrFrplw01s",
        "colab_type": "text"
      },
      "source": [
        "# **Bienvenue à la physique numérique**\n",
        "Pendant ce cours, on va decouvrir le monde informatique pour resoudre des problemes de physique. \n",
        "\n",
        "\\begin{align}\n",
        "\\huge{\\vdots}\\nonumber\n",
        "\\end{align}\n",
        "<br>\n",
        "\n",
        "N'oubliez pas de definir les bibliothèques à Python! "
      ]
    },
    {
      "cell_type": "code",
      "metadata": {
        "id": "B_7Ukl74xZhJ",
        "colab_type": "code",
        "colab": {}
      },
      "source": [
        "import numpy as np\n",
        "import math\n",
        "import matplotlib.pyplot as plt\n"
      ],
      "execution_count": 0,
      "outputs": []
    },
    {
      "cell_type": "markdown",
      "metadata": {
        "id": "5daQXuAi1Bm_",
        "colab_type": "text"
      },
      "source": [
        "\\begin{align}\n",
        "\\huge{\\vdots}\\nonumber\n",
        "\\end{align}\n",
        "<br>\n",
        "La dérivée d'une fonction $f(x)$ est définie par\n",
        "\n",
        "\\begin{align}\n",
        "f'(x)=\\lim_{h\\rightarrow 0} \\frac{f(x+h)-f(x)}{h}\\nonumber\n",
        "\\end{align}\n",
        "\n",
        "\\begin{align}\n",
        "\\huge{\\vdots}\\nonumber\n",
        "\\end{align}"
      ]
    }
  ]
}